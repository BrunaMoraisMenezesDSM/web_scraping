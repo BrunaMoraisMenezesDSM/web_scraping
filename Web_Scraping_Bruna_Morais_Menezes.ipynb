{
  "nbformat": 4,
  "nbformat_minor": 0,
  "metadata": {
    "colab": {
      "provenance": [],
      "authorship_tag": "ABX9TyNSyN1/rGw6WwVnJNhYQg1B",
      "include_colab_link": true
    },
    "kernelspec": {
      "name": "python3",
      "display_name": "Python 3"
    },
    "language_info": {
      "name": "python"
    }
  },
  "cells": [
    {
      "cell_type": "markdown",
      "metadata": {
        "id": "view-in-github",
        "colab_type": "text"
      },
      "source": [
        "<a href=\"https://colab.research.google.com/github/BrunaMoraisMenezesDSM/web_scraping/blob/master/Web_Scraping_Bruna_Morais_Menezes.ipynb\" target=\"_parent\"><img src=\"https://colab.research.google.com/assets/colab-badge.svg\" alt=\"Open In Colab\"/></a>"
      ]
    },
    {
      "cell_type": "markdown",
      "source": [
        "# Exercício - Web Scraping\n",
        "\n",
        "**Nome:** Bruna Morais Menezes **| RA:** 1131392213017\n",
        "\n",
        "## **Exercício**\n",
        "Utilize o site http://books.toscrape.com/ , realize um web scraping neste site a fim de responder as\n",
        "seguintes questões:\n",
        "1. **Preço médio dos livros:** Mostra o preço médio de todos os livros listados.\n",
        "2. **Contagem de livros disponíveis:** Informa quantos livros estão disponíveis no estoque.\n",
        "3. **Livros mais caros:** Exibe os 3 livros com os preços mais altos na lista."
      ],
      "metadata": {
        "id": "8ODTlxCDw2gw"
      }
    },
    {
      "cell_type": "markdown",
      "source": [
        "Importando as bibliotecas `requests` e `BeutifulSoup`, usada para fazer requisições HTTP e para o auxiliar na análise do conteúdo HTML, respectivamente."
      ],
      "metadata": {
        "id": "7iwf6Az4xbbz"
      }
    },
    {
      "cell_type": "code",
      "execution_count": 46,
      "metadata": {
        "id": "-tLAlwm-8gGL"
      },
      "outputs": [],
      "source": [
        "import requests\n",
        "from bs4 import BeautifulSoup"
      ]
    },
    {
      "cell_type": "markdown",
      "source": [
        "Definindo a URL do site e especificando o headers"
      ],
      "metadata": {
        "id": "nOkivmVGxwos"
      }
    },
    {
      "cell_type": "code",
      "source": [
        "url = 'http://books.toscrape.com/catalogue/category/books/childrens_11/index.html'\n",
        "headers = {\"User-Agent\": \"Mozilla/5.0 (Windows NT 10.0; Win64; x64) AppleWebKit/537.36 (KHTML, like Gecko) Chrome/130.0.0.0 Safari/537.36\"}"
      ],
      "metadata": {
        "id": "YMqeusHC89A7"
      },
      "execution_count": 47,
      "outputs": []
    },
    {
      "cell_type": "markdown",
      "source": [
        "Realizando uma requisição GET para a URL mencionada no passo anterior, juntamente com os headers definidos."
      ],
      "metadata": {
        "id": "VDO7YTEWyAzb"
      }
    },
    {
      "cell_type": "code",
      "source": [
        "response = requests.get(url, headers=headers)"
      ],
      "metadata": {
        "id": "EPOifRoK9dEJ"
      },
      "execution_count": 48,
      "outputs": []
    },
    {
      "cell_type": "markdown",
      "source": [
        "Se o retorno da requisição der 200, significa que deu sucesso, portanto, vamos utilizar o conteúdo da resposta para analisar o HTML da página usando o `BeautifulSoup`."
      ],
      "metadata": {
        "id": "HOG1DCXTyPaz"
      }
    },
    {
      "cell_type": "code",
      "source": [
        "if response.status_code == 200:\n",
        "  beautiful = BeautifulSoup(response.text, 'html.parser')"
      ],
      "metadata": {
        "id": "R5cf19Hc9fZE"
      },
      "execution_count": 49,
      "outputs": []
    },
    {
      "cell_type": "markdown",
      "source": [
        "Agora precisamos localizar todos os elementos HTML `article` com a classe `product_pod`, representando cada produto listado na página, esses elementos serão armazenados na variável `livros`."
      ],
      "metadata": {
        "id": "FgyrGI1tzazH"
      }
    },
    {
      "cell_type": "code",
      "source": [
        "livros = beautiful.find_all('article', class_='product_pod')"
      ],
      "metadata": {
        "id": "Apge19mm9g1p"
      },
      "execution_count": 50,
      "outputs": []
    },
    {
      "cell_type": "markdown",
      "source": [
        "Importando o módulo `re` para utilizar o regex e poder quebrar uma string em partes."
      ],
      "metadata": {
        "id": "h0dpEjY51wOE"
      }
    },
    {
      "cell_type": "code",
      "source": [
        "import re"
      ],
      "metadata": {
        "id": "BxVccAXQwgiP"
      },
      "execution_count": 51,
      "outputs": []
    },
    {
      "cell_type": "markdown",
      "source": [
        "A seguir está inicializando a lista de preços vazia, após está fazendo um `for`, percorrendo cada item da lista livros e extraindo o texto contido no elemento `p` da classe `price_color`, este é o preço do livro que vai ser armazenado na variável `item_preco`. Depois, usando regex, vamos buscar todas os dados que tem o padrão de números decimais e atribuímos a variável `preco`. Em seguida, é necessário converte-la para `float`, para realizarmos os cálculos posteriormente, e o adicionamos na lista de precos, usando o `append`."
      ],
      "metadata": {
        "id": "uOF5h1q72elL"
      }
    },
    {
      "cell_type": "code",
      "source": [
        "precos = []\n",
        "\n",
        "for item in livros:\n",
        "    item_preco = item.find('p', class_='price_color').text\n",
        "    preco = re.findall(r'\\d+\\.\\d+', item_preco)[0]\n",
        "\n",
        "    precos.append(float(preco))"
      ],
      "metadata": {
        "id": "rhNsLXut2btc"
      },
      "execution_count": 52,
      "outputs": []
    },
    {
      "cell_type": "markdown",
      "source": [
        "Calculando a quantidade de itens dentro da lista `precos`, usando o `len()` e armazenando na variável `quantidade_disponivel`, para sabermos quantos livros estão disponíveis."
      ],
      "metadata": {
        "id": "5wBk7fNZ5Alk"
      }
    },
    {
      "cell_type": "code",
      "source": [
        "quantidade_disponivel = len(precos)"
      ],
      "metadata": {
        "id": "6ktAkpHM5Bxc"
      },
      "execution_count": 53,
      "outputs": []
    },
    {
      "cell_type": "markdown",
      "source": [
        "## Respostas"
      ],
      "metadata": {
        "id": "Ecqz4P6BFJqW"
      }
    },
    {
      "cell_type": "markdown",
      "source": [
        "### 1. Preço médio dos livros\n",
        "\n",
        "Para saber o preço médio dos livros, precisamos somar o total de preços da lista `preco`, usando o `sum()` e dividir pela quantidade de livros armazenada na variável `quantidade_disponivel`."
      ],
      "metadata": {
        "id": "iNVBUQ5z5tTs"
      }
    },
    {
      "cell_type": "code",
      "source": [
        "preco_medio = sum(precos) / quantidade_disponivel\n",
        "\n",
        "print(f\"Preço médio dos livros: {preco_medio:.2f}\")"
      ],
      "metadata": {
        "colab": {
          "base_uri": "https://localhost:8080/"
        },
        "id": "IWhanjFL9kHR",
        "outputId": "798d3699-5cb6-4ed9-a386-55863f245feb"
      },
      "execution_count": 54,
      "outputs": [
        {
          "output_type": "stream",
          "name": "stdout",
          "text": [
            "Preço médio dos livros: 36.40\n"
          ]
        }
      ]
    },
    {
      "cell_type": "markdown",
      "source": [
        "### 2. Contagem de livros disponíveis\n",
        "\n",
        "Anteriormente já armazenamos essa informação na variável `quantidade_disponivel`, então, abaixo só será exibida."
      ],
      "metadata": {
        "id": "x4soV1oN53Cc"
      }
    },
    {
      "cell_type": "code",
      "source": [
        "print(f\"Contagem de livros disponíveis: {quantidade_disponivel}\")"
      ],
      "metadata": {
        "colab": {
          "base_uri": "https://localhost:8080/"
        },
        "id": "fkdNzMOi9lrK",
        "outputId": "0ee41dcf-0b46-42cb-94bf-bbfcc32aed0c"
      },
      "execution_count": 55,
      "outputs": [
        {
          "output_type": "stream",
          "name": "stdout",
          "text": [
            "Contagem de livros disponíveis: 20\n"
          ]
        }
      ]
    },
    {
      "cell_type": "markdown",
      "source": [
        "### 3. Livros mais caros\n",
        "\n",
        "Criando uma lista de tuplas, onde cada tupla contém o título do livro\n",
        "e seu preço, utilizando `zip` para combinar as listas `livros` e `precos`.\n",
        "Em seguida, colocamos essa lista em ordem decrescente com base no preço\n",
        "e selecionamos os 3 livros mais caros.\n"
      ],
      "metadata": {
        "id": "Ntt5fLvo6EJi"
      }
    },
    {
      "cell_type": "code",
      "source": [
        "livros_com_preco = [(produto.h3.a['title'], preco) for produto, preco in zip(livros, precos)]\n",
        "\n",
        "livros_mais_caros = sorted(livros_com_preco, key=lambda x: x[1], reverse=True)[:3]\n",
        "\n",
        "print(\"Livros mais caros:\")\n",
        "for livro, preco in livros_mais_caros:\n",
        "    print(f\"{livro}: {preco:.2f}\")"
      ],
      "metadata": {
        "colab": {
          "base_uri": "https://localhost:8080/"
        },
        "id": "0E2Ljzaw9m4a",
        "outputId": "96d45ed3-80f8-44ca-d9a4-168c7c8a221c"
      },
      "execution_count": 56,
      "outputs": [
        {
          "output_type": "stream",
          "name": "stdout",
          "text": [
            "Livros mais caros:\n",
            "The White Cat and the Monk: A Retelling of the Poem âPangur BÃ¡nâ: 58.08\n",
            "The Secret of Dreadwillow Carse: 56.13\n",
            "The Wild Robot: 56.07\n"
          ]
        }
      ]
    }
  ]
}